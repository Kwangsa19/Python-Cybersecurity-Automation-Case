{
 "cells": [
  {
   "cell_type": "markdown",
   "metadata": {},
   "source": [
    "# Python Automation Tasks\n",
    "---"
   ]
  },
  {
   "cell_type": "markdown",
   "metadata": {},
   "source": [
    "## Scenario 1: Automate the login process\n",
    "\n",
    "The security analyst team at XYZ Corp has asked you to automate the login process system. They require you to use python for automation. The objective is to automate the login process so the administrators do not have to approve the authentication manually.  \n",
    "\n",
    "The following are the information you need to solve this task: \n",
    "\n",
    "* Approved users and devices list:\n",
    "\n",
    "<div align=\"center\">\n",
    "\n",
    "| Users | Devices |\n",
    "|---|---|\n",
    "| keith | 789uk |\n",
    "| john | jfklsdjf |\n",
    "| jimmy | 9djflksf |\n",
    "| sarah | 342dfsf |\n",
    "\n",
    "</div>\n",
    "\n",
    "* If the username matches the users list, the system will print `the user is approved`. Then, if the device id matches the devices list, the system will print `device_id is the assigned device for the users`. If the device id does not match the devices list, the system wil print `the device id is not their assigned device`. All in all, if the username does not match the users list, the system will print `the username is not approved to access the system` and the system will just print this statement without continuing to device id. \n",
    "\n",
    "* Please pay attention to lowercase or uppercase of the username. \n"
   ]
  },
  {
   "cell_type": "markdown",
   "metadata": {},
   "source": [
    "### Solution 1: Algorithm to automate the login process"
   ]
  },
  {
   "cell_type": "code",
   "execution_count": 6,
   "metadata": {},
   "outputs": [
    {
     "name": "stdout",
     "output_type": "stream",
     "text": [
      "the user keith is approved\n",
      "789uk is the assigned device for keith\n",
      "the user john is approved\n",
      "jfklsdjf is the assigned device for john\n",
      "the username albert is not approved to access the system\n",
      "the user sarah is approved\n",
      "342dfsf is the assigned device for sarah\n",
      "the username Jimmy is not approved to access the system\n",
      "the user keith is approved\n",
      "dkfjs is not their assigned device\n"
     ]
    }
   ],
   "source": [
    "# List of approved users and devices \n",
    "approved_users = [\"keith\", \"john\", \"jimmy\", \"sarah\"]\n",
    "\n",
    "approved_devices =[\"789uk\", \"jfklsdjf\", \"9djflksf\", \"342dfsf\"]\n",
    "\n",
    "# Define username and device_id\n",
    "def login(username, device_id):\n",
    "\n",
    "    # Condition: if the username matches the approved users list\n",
    "    if username in approved_users: \n",
    "        print(\"the user\", username, \"is approved\")\n",
    "\n",
    "        # The index of the users \n",
    "        ind = approved_users.index(username)\n",
    "\n",
    "        # The index of the users is also the index of the approved device\n",
    "        # From the index of the user, we find the index of the approved device\n",
    "        if device_id == approved_devices[ind]:\n",
    "            print(device_id, \"is the assigned device for\", username)\n",
    "\n",
    "        # If it is unmatched, then....\n",
    "        else:\n",
    "            print(device_id, \"is not their assigned device\")\n",
    "            \n",
    "    # If the username does not match the approved users list\n",
    "    else:\n",
    "        print(\"the username\", username, \"is not approved to access the system\")\n",
    "\n",
    "login(\"keith\", \"789uk\")\n",
    "login(\"john\", \"jfklsdjf\")\n",
    "login(\"albert\", \"3242394872\")\n",
    "login(\"sarah\",\"342dfsf\")\n",
    "# Small j matters \n",
    "login(\"Jimmy\", \"9djflksf\")\n",
    "# correct username, but different device id\n",
    "login(\"keith\", \"dkfjs\")"
   ]
  },
  {
   "cell_type": "markdown",
   "metadata": {},
   "source": [
    "## Scenario 2: Analyze the logins\n",
    "\n",
    "The security analyst team at XYZ Corp has asked you to analyze the login activities in a conditional statements. They require you to use python for automation. The objective is to analyze the login activities by printing `Current day login total for the user`, `Average logins per day for the user`, and `Alert` if the account has more login activity than normal. \n",
    "\n",
    "The following are the information you need to solve the task: \n",
    "\n",
    "* Users info\n",
    "\n",
    "<div align=\"center\">\n",
    "\n",
    "| Username | Current_day_logins | Average_day_logins |\n",
    "|---|:---:|:---:|\n",
    "| keith | 8 | 4 |\n",
    "| john | 7 | 6 | \n",
    "| jimmy | 6 | 1 |\n",
    "| sarah | 9 | 2 | \n",
    "\n",
    "</div>\n",
    "\n",
    "* If the `login ratio` is more than 3, the output will alert the system. `Login ratio` is current day login/average day login. \n",
    "* For this task, use the `widget` and `display`to show interactive display. \n",
    "* For curiosity, you may prepare more than one way to analyze the user logins. \n",
    "* Present your results in order: Model 1 simple solution, Model 1 Widget, Model 2 solution, Model 2 widget. "
   ]
  },
  {
   "cell_type": "markdown",
   "metadata": {},
   "source": [
    "### Solution 2: Analyze the logins"
   ]
  },
  {
   "cell_type": "code",
   "execution_count": 16,
   "metadata": {},
   "outputs": [
    {
     "name": "stdout",
     "output_type": "stream",
     "text": [
      "The user keith is approved.\n",
      "Username has been active for 8 days today.\n",
      "On average, the user has been active for 4 days.\n",
      "The user john is approved.\n",
      "Username has been active for 7 days today.\n",
      "On average, the user has been active for 6 days.\n",
      "The user jimmy is approved.\n",
      "Username has been active for 6 days today.\n",
      "On average, the user has been active for 1 days.\n",
      "The username Jimmy is not approved to access the system.\n",
      "The user keith is approved.\n",
      "Current day login record for keith is not valid.\n",
      "Average day login record for keith is not valid.\n"
     ]
    }
   ],
   "source": [
    "# Model 1: Lists of approved users, current day logins, and average day logins\n",
    "usernames = [\"keith\", \"john\", \"jimmy\", \"sarah\"]\n",
    "current_day_logins = [8, 7, 6, 9]\n",
    "average_day_logins = [4, 6, 1, 2]\n",
    "\n",
    "# Define a function to analyze logins\n",
    "def analyze_logins(username, current_day, average_day):\n",
    "    # Check if the username is in the list of approved usernames\n",
    "    if username in usernames:\n",
    "        print(\"The user\", username, \"is approved.\")\n",
    "        \n",
    "        # Find the index of the username in the list\n",
    "        ind = usernames.index(username)\n",
    "        \n",
    "        # Check if the current day and average day logins match the records\n",
    "        if current_day_logins[ind] == current_day:\n",
    "            print(\"Username has been active for\", current_day, \"days today.\")\n",
    "        else:\n",
    "            print(\"Current day login record for\", username, \"is not valid.\")\n",
    "        \n",
    "        if average_day_logins[ind] == average_day:\n",
    "            print(\"On average, the user has been active for\", average_day, \"days.\")\n",
    "        else:\n",
    "            print(\"Average day login record for\", username, \"is not valid.\")\n",
    "    else:\n",
    "        print(\"The username\", username, \"is not approved to access the system.\")\n",
    "\n",
    "# Test the function with various inputs\n",
    "analyze_logins(\"keith\", 8, 4)\n",
    "analyze_logins(\"john\", 7, 6)\n",
    "analyze_logins(\"jimmy\", 6, 1)\n",
    "# Case sensitivity issue\n",
    "analyze_logins(\"Jimmy\", 8, 7)  # This will print not approved because of case sensitivity\n",
    "# Incorrect login records\n",
    "analyze_logins(\"keith\", 9, 5)\n"
   ]
  },
  {
   "cell_type": "code",
   "execution_count": 24,
   "metadata": {},
   "outputs": [
    {
     "data": {
      "application/vnd.jupyter.widget-view+json": {
       "model_id": "1b55a8fec55c49d7bddf24aaa39a1bd9",
       "version_major": 2,
       "version_minor": 0
      },
      "text/plain": [
       "Dropdown(description='Username:', layout=Layout(width='40%'), options=('keith', 'john', 'jimmy', 'sarah'), val…"
      ]
     },
     "metadata": {},
     "output_type": "display_data"
    },
    {
     "data": {
      "application/vnd.jupyter.widget-view+json": {
       "model_id": "9722fc812feb4848af7198e25f87f0f1",
       "version_major": 2,
       "version_minor": 0
      },
      "text/plain": [
       "Output()"
      ]
     },
     "metadata": {},
     "output_type": "display_data"
    }
   ],
   "source": [
    "# Display the widget for data list\n",
    "from ipywidgets import widgets, Layout\n",
    "from IPython.display import display\n",
    "\n",
    "# Define the widgets\n",
    "username_widget = widgets.Dropdown(\n",
    "    options=usernames,\n",
    "    description='Username:',\n",
    "    layout=Layout(width='40%')\n",
    ")\n",
    "\n",
    "output = widgets.Output()\n",
    "\n",
    "# Display the widget\n",
    "display(username_widget, output)\n",
    "\n",
    "# Define the update function to display login details\n",
    "def update_login_details(change):\n",
    "    output.clear_output()  # Clear the previous output\n",
    "    username = change['new']  # Get the new username\n",
    "    if username in usernames:\n",
    "        ind = usernames.index(username)  # Find the index of the username\n",
    "        current_day = current_day_logins[ind]\n",
    "        average_day = average_day_logins[ind]\n",
    "        with output:\n",
    "            print(f\"Username: {username}\")\n",
    "            print(f\"Current Day Logins: {current_day}\")\n",
    "            print(f\"Average Day Logins: {average_day}\")\n",
    "    else:\n",
    "        with output:\n",
    "            print(\"Please select a valid username.\")\n",
    "\n",
    "# Attach the update function to the username widget\n",
    "username_widget.observe(update_login_details, names='value')\n"
   ]
  },
  {
   "cell_type": "code",
   "execution_count": 54,
   "metadata": {},
   "outputs": [
    {
     "name": "stdout",
     "output_type": "stream",
     "text": [
      "The user john is approved.\n",
      "Username: john\n",
      "Current Day Logins: 7\n",
      "Average Day Logins: 6\n",
      "Login Ratio: 1.17\n",
      "The user jimmy is approved.\n",
      "Username: jimmy\n",
      "Current Day Logins: 6\n",
      "Average Day Logins: 1\n",
      "Login Ratio: 6.00\n",
      "This account has MORE login activity than normal.\n",
      "The user sarah is approved.\n",
      "Username: sarah\n",
      "Current Day Logins: 9\n",
      "Average Day Logins: 2\n",
      "Login Ratio: 4.50\n",
      "This account has MORE login activity than normal.\n",
      "The username Sarah is not approved to access the system.\n",
      "The user sarah is approved.\n",
      "Username: sarah\n",
      "Current Day Logins: 9\n",
      "Average Day Logins: 2\n",
      "The user sarah is approved.\n",
      "Username: sarah\n",
      "Current day login record for sarah does not match. Expected: 9, Provided: 3\n"
     ]
    }
   ],
   "source": [
    "# Model 2: Lists of approved users, current day logins, and average day logins\n",
    "usernames = [\"keith\", \"john\", \"jimmy\", \"sarah\"]\n",
    "current_day_logins = [8, 7, 6, 9]\n",
    "average_day_logins = [4, 6, 1, 2]\n",
    "\n",
    "# Refined function to analyze logins with all requested details and checks\n",
    "def analyze_logins(username, current_day, average_day):\n",
    "    # Check if the username is in the list of approved usernames\n",
    "    if username in usernames:\n",
    "        print(\"The user\", username, \"is approved.\")\n",
    "        \n",
    "        # Find the index of the username in the list\n",
    "        ind = usernames.index(username)\n",
    "        \n",
    "        # Display username\n",
    "        print(f\"Username: {username}\")\n",
    "        \n",
    "        # Check and display current day logins\n",
    "        if current_day == current_day_logins[ind]:\n",
    "            print(f\"Current Day Logins: {current_day}\")\n",
    "        else:\n",
    "            print(f\"Current day login record for {username} does not match. Expected: {current_day_logins[ind]}, Provided: {current_day}\")\n",
    "            return  # Exit the function early if current day doesn't match\n",
    "        \n",
    "        # Display average day logins\n",
    "        print(f\"Average Day Logins: {average_day_logins[ind]}\")\n",
    "        \n",
    "        # Ensure average day logins is not zero to avoid division by zero error\n",
    "        if average_day == average_day_logins[ind]:\n",
    "        \n",
    "            # Calculate and display login ratio\n",
    "            login_ratio = current_day / average_day\n",
    "            print(f\"Login Ratio: {login_ratio:.2f}\")\n",
    "            \n",
    "            # Check if the login ratio exceeds 3\n",
    "            if login_ratio > 3:\n",
    "                print(\"This account has MORE login activity than normal.\")\n",
    "       \n",
    "    else:\n",
    "        print(\"The username\", username, \"is not approved to access the system.\")\n",
    "\n",
    "# Test the updated function with various inputs\n",
    "\n",
    "analyze_logins(\"john\", 7, 6)\n",
    "analyze_logins(\"jimmy\", 6, 1)\n",
    "# Test with a case that should trigger the high activity message\n",
    "analyze_logins(\"sarah\", 9, 2)  # Expected to have a high login ratio\n",
    "analyze_logins(\"Sarah\", 8, 3) # Might not work for the user, might wanna Check spelling\n",
    "analyze_logins(\"sarah\", 9, 1)\n",
    "analyze_logins(\"sarah\", 3, 2)\n"
   ]
  },
  {
   "cell_type": "code",
   "execution_count": 33,
   "metadata": {},
   "outputs": [
    {
     "data": {
      "application/vnd.jupyter.widget-view+json": {
       "model_id": "e064421701634b0fa99efd1f339bc3f8",
       "version_major": 2,
       "version_minor": 0
      },
      "text/plain": [
       "VBox(children=(Dropdown(description='Username:', options=('keith', 'john', 'jimmy', 'sarah'), value='keith'), …"
      ]
     },
     "metadata": {},
     "output_type": "display_data"
    }
   ],
   "source": [
    "# Widget 2\n",
    "from ipywidgets import Dropdown, Button, Output, VBox\n",
    "from IPython.display import display\n",
    "\n",
    "# Lists of approved users, current day logins, and average day logins\n",
    "usernames = [\"keith\", \"john\", \"jimmy\", \"sarah\"]\n",
    "current_day_logins = [8, 7, 6, 9]\n",
    "average_day_logins = [4, 6, 1, 2]\n",
    "\n",
    "# Create a dropdown for selecting a username\n",
    "username_dropdown = Dropdown(\n",
    "    options=usernames,\n",
    "    description='Username:',\n",
    ")\n",
    "\n",
    "# Create a button for triggering the analysis\n",
    "run_button = Button(\n",
    "    description='Analyze Logins',\n",
    "    button_style='',  # 'success', 'info', 'warning', 'danger' or ''\n",
    "    icon='check',  # Button icon\n",
    ")\n",
    "\n",
    "# Create an output area for displaying the results\n",
    "output_area = Output()\n",
    "\n",
    "# Function to display the login details\n",
    "def display_login_details(username):\n",
    "    with output_area:\n",
    "        output_area.clear_output()  # Clear the previous output\n",
    "        if username in usernames:\n",
    "            ind = usernames.index(username)\n",
    "            current_day = current_day_logins[ind]\n",
    "            average_day = average_day_logins[ind]\n",
    "            login_ratio = current_day / average_day if average_day else 0  # Avoid division by zero\n",
    "            \n",
    "            # Display the details\n",
    "            print(f\"Username: {username}\")\n",
    "            print(f\"Current Day Logins: {current_day}\")\n",
    "            print(f\"Average Day Logins: {average_day}\")\n",
    "            if average_day:  # Ensure average day is not zero before displaying ratio\n",
    "                print(f\"Login Ratio: {login_ratio:.2f}\")\n",
    "                if login_ratio > 3:\n",
    "                    print(\"This account has more login activity than normal.\")\n",
    "            else:\n",
    "                print(\"Cannot calculate login ratio due to zero average day logins.\")\n",
    "        else:\n",
    "            print(\"Username not found in the approved list.\")\n",
    "\n",
    "# Event handler for the button click\n",
    "def on_run_button_clicked(b):\n",
    "    display_login_details(username_dropdown.value)\n",
    "\n",
    "# Attach the event handler to the button\n",
    "run_button.on_click(on_run_button_clicked)\n",
    "\n",
    "# Display the widgets\n",
    "display(VBox([username_dropdown, run_button, output_area]))\n"
   ]
  },
  {
   "cell_type": "markdown",
   "metadata": {},
   "source": [
    "## Scenario 3: Regular expression to find patterns\n",
    "\n",
    "The security analyst team at XYZ Corp has asked you to investigate patterns in the activities. They require you to use python for automation. The objective is to find the patterns behind it by using regular experessions. \n",
    "\n",
    "The following are the information you need to solve the tasks:\n",
    "\n",
    "* Find the hex signature from this data: `The malware signature is 0x9ACDAB and needs analysis`.\n",
    "* Find the device IDs that start with r15 and display the results from: `r262c36 67bv8fy 41j1u2e r151dm4 1270t3o 42dr56i r15xk9h 2j33krk 253be78 ac742a1 r15u9q5 zh86b2l ii286fq 9x482kt 6oa6m6u x3463ac i4l56nq g07h55q 081qc9t r159r1u`.  \n",
    "* Find the IP adddress in the form of 192.xxx.xxx and analzye the logs. These are the logs : `eraab 2022-05-10 6:03:41 192.168.152.148 \\niuduike 2022-05-09 6:46:40 192.168.22.115 \\nsmartell 2022-05-09 19:30:32 192.168.190.178 \\narutley 2022-05-12 17:00:59 1923.1689.3.24 \\nrjensen 2022-05-11 0:59:26 192.168.213.128 \\naestrada 2022-05-09 19:28:12 1924.1680.27.57 \\nasundara 2022-05-11 18:38:07 192.168.96.200 \\ndkot 2022-05-12 10:52:00 1921.168.1283.75 \\nabernard 2022-05-12 23:38:46 19245.168.2345.49 \\ncjackson 2022-05-12 19:36:42 192.168.247.153 \\njclark 2022-05-10 10:48:02 192.168.174.117 \\nalevitsk 2022-05-08 12:09:10 192.16874.1390.176 \\njrafael 2022-05-10 22:40:01 192.168.148.115 \\nyappiah 2022-05-12 10:37:22 192.168.103.10654 \\ndaquino 2022-05-08 7:02:35 192.168.168.144`.\n"
   ]
  },
  {
   "cell_type": "markdown",
   "metadata": {},
   "source": [
    "### Solution 3: Regular expression to find patterns"
   ]
  },
  {
   "cell_type": "code",
   "execution_count": 34,
   "metadata": {},
   "outputs": [],
   "source": [
    "import re"
   ]
  },
  {
   "cell_type": "code",
   "execution_count": 35,
   "metadata": {},
   "outputs": [
    {
     "name": "stdout",
     "output_type": "stream",
     "text": [
      "['0x9ACDAB']\n"
     ]
    }
   ],
   "source": [
    "data = \"The malware signature is 0x9ACDAB and needs analysis.\"\n",
    "# \\b: word boundary to make sure b is at the front or the end. 0x matches the hexadecimal. [a-fA-F0-0] matches any hexadecimal digit, a-f matches lowercase digit, A-F matches any uppercase hex digit, 0-9 matches decimal digit. + means one or more of the previous element \n",
    "hex_signatures = re.findall(r\"\\b0x[a-fA-F0-9]+\\b\", data)\n",
    "print(hex_signatures)  # ['0x9ACDAB']\n"
   ]
  },
  {
   "cell_type": "code",
   "execution_count": 39,
   "metadata": {},
   "outputs": [
    {
     "name": "stdout",
     "output_type": "stream",
     "text": [
      "['r151dm4', 'r15xk9h', 'r15u9q5', 'r159r1u']\n"
     ]
    }
   ],
   "source": [
    "# Assign `devices` to a string containing device IDs, each device ID represented by alphanumeric characters\n",
    "devices = \"r262c36 67bv8fy 41j1u2e r151dm4 1270t3o 42dr56i r15xk9h 2j33krk 253be78 ac742a1 r15u9q5 zh86b2l ii286fq 9x482kt 6oa6m6u x3463ac i4l56nq g07h55q 081qc9t r159r1u\"\n",
    "\n",
    "# Assign `target_pattern` to a regular expression pattern for finding device IDs that start with \"r15\"\n",
    "target_pattern = r\"r15\\w+\"\n",
    "\n",
    "# Use `re.findall()` to find the device IDs that start with \"r15\" and display the results\n",
    "print(re.findall(target_pattern, devices))"
   ]
  },
  {
   "cell_type": "code",
   "execution_count": 48,
   "metadata": {},
   "outputs": [
    {
     "name": "stdout",
     "output_type": "stream",
     "text": [
      "['192.168.152.148', '192.168.190.178', '192.168.213.128', '192.168.247.153', '192.168.174.117', '192.168.148.115', '192.168.103.106', '192.168.168.144']\n"
     ]
    }
   ],
   "source": [
    "# Assign `log_file` to a string containing username, date, login time, and IP address for a series of login attempts \n",
    "log_file = \"eraab 2022-05-10 6:03:41 192.168.152.148 \\niuduike 2022-05-09 6:46:40 192.168.22.115 \\nsmartell 2022-05-09 19:30:32 192.168.190.178 \\narutley 2022-05-12 17:00:59 1923.1689.3.24 \\nrjensen 2022-05-11 0:59:26 192.168.213.128 \\naestrada 2022-05-09 19:28:12 1924.1680.27.57 \\nasundara 2022-05-11 18:38:07 192.168.96.200 \\ndkot 2022-05-12 10:52:00 1921.168.1283.75 \\nabernard 2022-05-12 23:38:46 19245.168.2345.49 \\ncjackson 2022-05-12 19:36:42 192.168.247.153 \\njclark 2022-05-10 10:48:02 192.168.174.117 \\nalevitsk 2022-05-08 12:09:10 192.16874.1390.176 \\njrafael 2022-05-10 22:40:01 192.168.148.115 \\nyappiah 2022-05-12 10:37:22 192.168.103.10654 \\ndaquino 2022-05-08 7:02:35 192.168.168.144\"\n",
    "\n",
    "# Assign `pattern` to a regular expression pattern that will match with IP addresses of the form xxx.xxx.xxx.xxx\n",
    "# \\d matches any digit from 0-9\n",
    "# pattern = r\"\\d{1,3}\\.\\d{1,3}\\.\\d{1,3}\\.\\d{1,3}\". but IP address can have more than 3 digits per octet. \n",
    "# For example: 192.168.1.1 or 192.168.22.155 \n",
    "pattern = r\"\\d\\d\\d\\.\\d\\d\\d\\.\\d\\d\\d\\.\\d\\d\\d\"\n",
    "\n",
    "\n",
    "# Use the `re.findall()` function on `pattern` and `log_file` to extract the IP addresses of the form xxx.xxx.xxx.xxx and display the results\n",
    "print(re.findall(pattern, log_file))"
   ]
  },
  {
   "cell_type": "code",
   "execution_count": 43,
   "metadata": {},
   "outputs": [
    {
     "name": "stdout",
     "output_type": "stream",
     "text": [
      "The IP address 192.168.152.148 does not require further analysis.\n",
      "The IP address 192.168.22.115 does not require further analysis.\n",
      "The IP address 192.168.190.178 has been flagged for further analysis.\n",
      "The IP address 192.168.213.128 does not require further analysis.\n",
      "The IP address 192.168.96.200 has been flagged for further analysis.\n",
      "The IP address 192.168.247.153 does not require further analysis.\n",
      "The IP address 192.168.174.117 has been flagged for further analysis.\n",
      "The IP address 192.168.148.115 does not require further analysis.\n",
      "The IP address 192.168.103.106 does not require further analysis.\n",
      "The IP address 192.168.168.144 has been flagged for further analysis.\n"
     ]
    }
   ],
   "source": [
    "# Assign `log_file` to a string containing username, date, login time, and IP address for a series of login attempts \n",
    "log_file = \"eraab 2022-05-10 6:03:41 192.168.152.148 \\niuduike 2022-05-09 6:46:40 192.168.22.115 \\nsmartell 2022-05-09 19:30:32 192.168.190.178 \\narutley 2022-05-12 17:00:59 1923.1689.3.24 \\nrjensen 2022-05-11 0:59:26 192.168.213.128 \\naestrada 2022-05-09 19:28:12 1924.1680.27.57 \\nasundara 2022-05-11 18:38:07 192.168.96.200 \\ndkot 2022-05-12 10:52:00 1921.168.1283.75 \\nabernard 2022-05-12 23:38:46 19245.168.2345.49 \\ncjackson 2022-05-12 19:36:42 192.168.247.153 \\njclark 2022-05-10 10:48:02 192.168.174.117 \\nalevitsk 2022-05-08 12:09:10 192.16874.1390.176 \\njrafael 2022-05-10 22:40:01 192.168.148.115 \\nyappiah 2022-05-12 10:37:22 192.168.103.10654 \\ndaquino 2022-05-08 7:02:35 192.168.168.144\"\n",
    "\n",
    "# Assign `pattern` to a regular expression that matches with all valid IP addresses and only those \n",
    "pattern = r\"\\d{1,3}\\.\\d{1,3}\\.\\d{1,3}\\.\\d{1,3}\"\n",
    "\n",
    "# Use `re.findall()` on `pattern` and `log_file` and assign `valid_ip_addresses` to the output \n",
    "valid_ip_addresses = re.findall(pattern, log_file)\n",
    "\n",
    "# Assign `flagged_addresses` to a list of IP addresses that have been previously flagged for unusual activity\n",
    "flagged_addresses = [\"192.168.190.178\", \"192.168.96.200\", \"192.168.174.117\", \"192.168.168.144\"]\n",
    "\n",
    "# Loop through `valid_ip_addresses` with `address` as the loop variable\n",
    "for address in valid_ip_addresses:\n",
    "\n",
    "    # Conditional begins here\n",
    "    # If `address` belongs to `flagged_addresses`, display \"The IP address ______ has been flagged for further analysis.\"\n",
    "    if address in flagged_addresses:\n",
    "        print(\"The IP address\", address, \"has been flagged for further analysis.\")\n",
    "\n",
    "    # Otherwise, display \"The IP address ______ does not require further analysis.\"\n",
    "    else:\n",
    "        print(\"The IP address\", address, \"does not require further analysis.\")"
   ]
  }
 ],
 "metadata": {
  "colab": {
   "provenance": [],
   "toc_visible": true
  },
  "kernelspec": {
   "display_name": "Python 3",
   "language": "python",
   "name": "python3"
  },
  "language_info": {
   "codemirror_mode": {
    "name": "ipython",
    "version": 3
   },
   "file_extension": ".py",
   "mimetype": "text/x-python",
   "name": "python",
   "nbconvert_exporter": "python",
   "pygments_lexer": "ipython3",
   "version": "3.12.1"
  }
 },
 "nbformat": 4,
 "nbformat_minor": 1
}
